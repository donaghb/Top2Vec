{
  "nbformat": 4,
  "nbformat_minor": 0,
  "metadata": {
    "colab": {
      "name": "Untitled1.ipynb",
      "provenance": [],
      "authorship_tag": "ABX9TyNVdHRh8LhECU3WD03LmQLH",
      "include_colab_link": true
    },
    "kernelspec": {
      "name": "python3",
      "display_name": "Python 3"
    },
    "language_info": {
      "name": "python"
    }
  },
  "cells": [
    {
      "cell_type": "markdown",
      "metadata": {
        "id": "view-in-github",
        "colab_type": "text"
      },
      "source": [
        "<a href=\"https://colab.research.google.com/github/donaghb/Top2Vec/blob/master/Untitled1.ipynb\" target=\"_parent\"><img src=\"https://colab.research.google.com/assets/colab-badge.svg\" alt=\"Open In Colab\"/></a>"
      ]
    },
    {
      "cell_type": "code",
      "execution_count": 1,
      "metadata": {
        "id": "duQdIpAePN6S"
      },
      "outputs": [],
      "source": [
        "# imports\n",
        "\n",
        "import numpy as np\n",
        "import matplotlib.pyplot as plt\n",
        "import scipy.stats as stats\n",
        "import sklearn.linear_model as linear_model\n",
        "import seaborn as sns\n",
        "import xgboost as xgb\n",
        " "
      ]
    },
    {
      "cell_type": "code",
      "source": [
        "from IPython.display import clear_output\n",
        "\n",
        "!wget --no-check-certificate 'https://docs.google.com/uc?export=download&id=1O-y1o8-W76uJWifpYDvTk1zgk_Yb6LV_' -O 'ppr-2022-2018-dublin-cleaned,csv'\n",
        "#replace FILEID and FILENAME\n",
        "\n",
        "# to download into a directory, we use p tag\n",
        "!wget --no-check-certificate 'https://docs.google.com/uc?export=download&id=1O-y1o8-W76uJWifpYDvTk1zgk_Yb6LV_' -O 'ppr-2022-2018-dublin-cleaned.csv' && mkdir mkdir -p ~/data/directory_name\n",
        "clear_output()"
      ],
      "metadata": {
        "id": "cTey6xK6PQ63"
      },
      "execution_count": 2,
      "outputs": []
    },
    {
      "cell_type": "code",
      "source": [
        "# https://github.com/c123ian/house\n",
        "\n",
        "import pandas as pd\n",
        "test = pd.read_csv('https://raw.githubusercontent.com/donaghb/college/master/dublin_housing2.csv', encoding = 'unicode_escape')"
      ],
      "metadata": {
        "id": "dYhJp85XPTwx"
      },
      "execution_count": 14,
      "outputs": []
    },
    {
      "cell_type": "code",
      "source": [
        "test.info()"
      ],
      "metadata": {
        "colab": {
          "base_uri": "https://localhost:8080/"
        },
        "id": "3zDfEzJiPhW6",
        "outputId": "ebfce83e-bdb3-4f35-c713-991ab4bacdf1"
      },
      "execution_count": 15,
      "outputs": [
        {
          "output_type": "stream",
          "name": "stdout",
          "text": [
            "<class 'pandas.core.frame.DataFrame'>\n",
            "RangeIndex: 18681 entries, 0 to 18680\n",
            "Data columns (total 9 columns):\n",
            " #   Column                     Non-Null Count  Dtype \n",
            "---  ------                     --------------  ----- \n",
            " 0   Date of Sale (dd/mm/yyyy)  18681 non-null  object\n",
            " 1   Address                    18681 non-null  object\n",
            " 2   Postal Code                11711 non-null  object\n",
            " 3   County                     18681 non-null  object\n",
            " 4   Price                      18681 non-null  object\n",
            " 5   Not Full Market Price      18681 non-null  object\n",
            " 6   VAT Exclusive              18681 non-null  object\n",
            " 7   Description of Property    18681 non-null  object\n",
            " 8   Property Size Description  4208 non-null   object\n",
            "dtypes: object(9)\n",
            "memory usage: 1.3+ MB\n"
          ]
        }
      ]
    }
  ]
}